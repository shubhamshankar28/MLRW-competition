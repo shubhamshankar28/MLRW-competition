{
 "cells": [
  {
   "cell_type": "code",
   "execution_count": null,
   "metadata": {
    "_cell_guid": "b1076dfc-b9ad-4769-8c92-a6c4dae69d19",
    "_uuid": "8f2839f25d086af736a60e9eeb907d3b93b6e0e5",
    "execution": {
     "iopub.execute_input": "2022-02-18T13:28:50.241621Z",
     "iopub.status.busy": "2022-02-18T13:28:50.241348Z",
     "iopub.status.idle": "2022-02-18T13:28:50.250499Z",
     "shell.execute_reply": "2022-02-18T13:28:50.249793Z",
     "shell.execute_reply.started": "2022-02-18T13:28:50.241591Z"
    }
   },
   "outputs": [],
   "source": [
    "# Used in all sections for managing data and files\n",
    "import os\n",
    "import numpy as np\n",
    "from tqdm import tqdm\n",
    "import pandas as pd\n",
    "import pickle\n",
    "import re\n",
    "\n",
    "# NTLK is used for preprocessing text. You can find out more about each module using their documentation.\n",
    "import nltk\n",
    "nltk.download('stopwords')\n",
    "nltk.download('wordnet')\n",
    "nltk.download('punkt')\n",
    "from nltk.corpus import wordnet as wn\n",
    "from nltk.stem.wordnet import WordNetLemmatizer\n",
    "from nltk import word_tokenize, pos_tag\n",
    "from nltk.corpus import inaugural, stopwords\n",
    "from wordcloud import WordCloud, STOPWORDS\n",
    "\n",
    "# Scikit-Learn is used for feature extraction and training a logistic regression model\n",
    "from sklearn.feature_extraction.text import TfidfVectorizer\n",
    "from sklearn.metrics import classification_report"
   ]
  },
  {
   "cell_type": "code",
   "execution_count": null,
   "metadata": {
    "execution": {
     "iopub.execute_input": "2022-02-18T13:28:51.5628Z",
     "iopub.status.busy": "2022-02-18T13:28:51.562102Z",
     "iopub.status.idle": "2022-02-18T13:28:52.652327Z",
     "shell.execute_reply": "2022-02-18T13:28:52.651576Z",
     "shell.execute_reply.started": "2022-02-18T13:28:51.562761Z"
    }
   },
   "outputs": [],
   "source": [
    "# Reading train dataset in labelled training data folder and making a dataframe from them\n",
    "\n",
    "labelled_training_data_path = '../input/iitgaihackathonmlrw2022/labelled_train_data.csv'\n",
    "train_df = pd.read_csv(labelled_training_data_path)\n",
    "unlabelled_train_df = pd.read_csv('../input/iitgaihackathonmlrw2022/unlabelled_train_data.csv')\n",
    "test_df = pd.read_csv('../input/iitgaihackathonmlrw2022/data_only_test.csv')\n",
    "\n",
    "print(train_df.shape, test_df.shape, unlabelled_train_df.shape)"
   ]
  },
  {
   "cell_type": "code",
   "execution_count": null,
   "metadata": {
    "execution": {
     "iopub.execute_input": "2022-02-18T13:28:58.198068Z",
     "iopub.status.busy": "2022-02-18T13:28:58.197805Z",
     "iopub.status.idle": "2022-02-18T13:28:58.220928Z",
     "shell.execute_reply": "2022-02-18T13:28:58.220206Z",
     "shell.execute_reply.started": "2022-02-18T13:28:58.198037Z"
    }
   },
   "outputs": [],
   "source": [
    "train_df.drop(columns=['pert', 'channel_count', 'contact_address', 'contact_city', 'contact_country', 'contact_email', 'contact_institute'], axis=1, errors='ignore', inplace=True)\n",
    "test_df.drop(columns=['pert', 'channel_count', 'contact_address', 'contact_city', 'contact_country', 'contact_email', 'contact_institute'], axis=1, errors='ignore', inplace=True)\n",
    "unlabelled_train_df.drop(columns=['pert', 'channel_count', 'contact_address', 'contact_city', 'contact_country', 'contact_email', 'contact_institute'], axis=1, errors='ignore', inplace=True)"
   ]
  },
  {
   "cell_type": "code",
   "execution_count": null,
   "metadata": {
    "execution": {
     "iopub.execute_input": "2022-02-18T13:28:58.828804Z",
     "iopub.status.busy": "2022-02-18T13:28:58.828215Z",
     "iopub.status.idle": "2022-02-18T13:28:58.848847Z",
     "shell.execute_reply": "2022-02-18T13:28:58.848157Z",
     "shell.execute_reply.started": "2022-02-18T13:28:58.828765Z"
    }
   },
   "outputs": [],
   "source": [
    "train_df.drop(columns=['contact_state', 'contact_name', 'last_update_date', 'submission_date', 'contact_phone'], axis=1, errors='ignore', inplace=True)\n",
    "unlabelled_train_df.drop(columns=['contact_state', 'contact_name', 'last_update_date', 'submission_date', 'contact_phone'], axis=1, errors='ignore', inplace=True)\n",
    "test_df.drop(columns=['contact_state', 'contact_name', 'last_update_date', 'submission_date', 'contact_phone'], axis=1, errors='ignore', inplace=True)"
   ]
  },
  {
   "cell_type": "code",
   "execution_count": null,
   "metadata": {
    "execution": {
     "iopub.execute_input": "2022-02-18T13:28:59.483824Z",
     "iopub.status.busy": "2022-02-18T13:28:59.483577Z",
     "iopub.status.idle": "2022-02-18T13:28:59.504656Z",
     "shell.execute_reply": "2022-02-18T13:28:59.503913Z",
     "shell.execute_reply.started": "2022-02-18T13:28:59.483794Z"
    }
   },
   "outputs": [],
   "source": [
    "train_df.drop(columns=['status', 'data_row_count', 'taxid_ch1', 'taxid_ch2', 'contact_web_link', 'platform_id'], axis=1, errors='ignore', inplace=True)\n",
    "unlabelled_train_df.drop(columns=['status', 'data_row_count', 'taxid_ch1', 'taxid_ch2', 'contact_web_link', 'platform_id'], axis=1, errors='ignore', inplace=True)\n",
    "test_df.drop(columns=['status', 'data_row_count', 'taxid_ch1', 'taxid_ch2', 'contact_web_link', 'platform_id'], axis=1, errors='ignore', inplace=True)"
   ]
  },
  {
   "cell_type": "code",
   "execution_count": null,
   "metadata": {
    "execution": {
     "iopub.execute_input": "2022-02-18T13:29:00.018619Z",
     "iopub.status.busy": "2022-02-18T13:29:00.018389Z",
     "iopub.status.idle": "2022-02-18T13:29:00.036076Z",
     "shell.execute_reply": "2022-02-18T13:29:00.035403Z",
     "shell.execute_reply.started": "2022-02-18T13:29:00.018592Z"
    }
   },
   "outputs": [],
   "source": [
    "train_df.drop(columns=['supplementary_file', 'contact_fax', 'Unnamed: 0'], axis=1, errors='ignore', inplace=True)\n",
    "unlabelled_train_df.drop(columns=['supplementary_file', 'contact_fax', 'Unnamed: 0'], axis=1, errors='ignore', inplace=True)\n",
    "test_df.drop(columns=['supplementary_file', 'contact_fax', 'Unnamed: 0'], axis=1, errors='ignore', inplace=True)"
   ]
  },
  {
   "cell_type": "code",
   "execution_count": null,
   "metadata": {
    "execution": {
     "iopub.execute_input": "2022-02-18T13:29:00.727129Z",
     "iopub.status.busy": "2022-02-18T13:29:00.726883Z",
     "iopub.status.idle": "2022-02-18T13:29:00.744706Z",
     "shell.execute_reply": "2022-02-18T13:29:00.743964Z",
     "shell.execute_reply.started": "2022-02-18T13:29:00.727098Z"
    }
   },
   "outputs": [],
   "source": [
    "train_df.drop(columns=['relation', 'contact_department', 'contact_laboratory', 'biomaterial_provider_ch1', 'biomaterial_provider_ch2'], axis=1, errors='ignore', inplace=True)\n",
    "unlabelled_train_df.drop(columns=['relation', 'contact_department', 'contact_laboratory', 'biomaterial_provider_ch1', 'biomaterial_provider_ch2'], axis=1, errors='ignore', inplace=True)\n",
    "test_df.drop(columns=['relation', 'contact_department', 'contact_laboratory', 'biomaterial_provider_ch1', 'biomaterial_provider_ch2'], axis=1, errors='ignore', inplace=True)"
   ]
  },
  {
   "cell_type": "code",
   "execution_count": null,
   "metadata": {
    "execution": {
     "iopub.execute_input": "2022-02-18T13:29:01.56079Z",
     "iopub.status.busy": "2022-02-18T13:29:01.560545Z",
     "iopub.status.idle": "2022-02-18T13:29:01.566487Z",
     "shell.execute_reply": "2022-02-18T13:29:01.565803Z",
     "shell.execute_reply.started": "2022-02-18T13:29:01.560763Z"
    }
   },
   "outputs": [],
   "source": [
    "train_df.columns"
   ]
  },
  {
   "cell_type": "code",
   "execution_count": null,
   "metadata": {
    "execution": {
     "iopub.execute_input": "2022-02-18T13:29:02.602297Z",
     "iopub.status.busy": "2022-02-18T13:29:02.601719Z",
     "iopub.status.idle": "2022-02-18T13:29:02.607717Z",
     "shell.execute_reply": "2022-02-18T13:29:02.60705Z",
     "shell.execute_reply.started": "2022-02-18T13:29:02.60226Z"
    }
   },
   "outputs": [],
   "source": [
    "train_df['data_processing'].values[4]"
   ]
  },
  {
   "cell_type": "code",
   "execution_count": null,
   "metadata": {
    "execution": {
     "iopub.execute_input": "2022-02-18T13:29:03.370772Z",
     "iopub.status.busy": "2022-02-18T13:29:03.370214Z",
     "iopub.status.idle": "2022-02-18T13:29:03.390054Z",
     "shell.execute_reply": "2022-02-18T13:29:03.389344Z",
     "shell.execute_reply.started": "2022-02-18T13:29:03.370733Z"
    }
   },
   "outputs": [],
   "source": [
    "# important cols: characteristics_ch1, data_processing, extract_protocol_ch1, growth_protocol_ch1,label_ch1, label_protocol_ch1, molecule_ch1, organism_ch1, scan_protocol, source_name_ch_1, treatment_protocol_ch1\n",
    "# replace nan values in these cols by empty string\n",
    "for col in train_df.columns:\n",
    "    print(col, train_df.loc[0, col])\n",
    "    print()"
   ]
  },
  {
   "cell_type": "code",
   "execution_count": null,
   "metadata": {
    "execution": {
     "iopub.execute_input": "2022-02-18T13:29:04.127366Z",
     "iopub.status.busy": "2022-02-18T13:29:04.1269Z",
     "iopub.status.idle": "2022-02-18T13:29:04.133616Z",
     "shell.execute_reply": "2022-02-18T13:29:04.132784Z",
     "shell.execute_reply.started": "2022-02-18T13:29:04.127315Z"
    }
   },
   "outputs": [],
   "source": [
    "cols = train_df.columns.tolist()\n",
    "cols"
   ]
  },
  {
   "cell_type": "code",
   "execution_count": null,
   "metadata": {
    "execution": {
     "iopub.execute_input": "2022-02-18T13:29:05.154422Z",
     "iopub.status.busy": "2022-02-18T13:29:05.153694Z",
     "iopub.status.idle": "2022-02-18T13:29:05.160117Z",
     "shell.execute_reply": "2022-02-18T13:29:05.159383Z",
     "shell.execute_reply.started": "2022-02-18T13:29:05.154377Z"
    }
   },
   "outputs": [],
   "source": [
    "# select the cols for features\n",
    "cols.remove('geo_accession')\n",
    "cols.remove('gse_id')\n",
    "cols.remove('ctrl')"
   ]
  },
  {
   "cell_type": "code",
   "execution_count": null,
   "metadata": {
    "execution": {
     "iopub.execute_input": "2022-02-18T13:29:06.011837Z",
     "iopub.status.busy": "2022-02-18T13:29:06.011284Z",
     "iopub.status.idle": "2022-02-18T13:29:06.019026Z",
     "shell.execute_reply": "2022-02-18T13:29:06.018327Z",
     "shell.execute_reply.started": "2022-02-18T13:29:06.011799Z"
    }
   },
   "outputs": [],
   "source": [
    "cols = ['characteristics_ch1', 'characteristics_ch2', 'data_processing', 'description', 'extract_protocol_ch1', 'extract_protocol_ch2',\n",
    "        'hyb_protocol', 'growth_protocol_ch1', 'growth_protocol_ch2', 'label_ch1', 'label_ch2', 'label_protocol_ch1', 'label_protocol_ch2',\n",
    "        'molecule_ch1', 'molecule_ch2', 'organism_ch1', 'organism_ch2', 'scan_protocol', 'source_name_ch1', 'source_name_ch2', 'title',\n",
    "        'treatment_protocol_ch1', 'treatment_protocol_ch2', 'type']\n",
    "cols"
   ]
  },
  {
   "cell_type": "code",
   "execution_count": null,
   "metadata": {
    "execution": {
     "iopub.execute_input": "2022-02-18T13:29:10.17025Z",
     "iopub.status.busy": "2022-02-18T13:29:10.169978Z",
     "iopub.status.idle": "2022-02-18T13:29:10.239745Z",
     "shell.execute_reply": "2022-02-18T13:29:10.239045Z",
     "shell.execute_reply.started": "2022-02-18T13:29:10.170218Z"
    }
   },
   "outputs": [],
   "source": [
    "train_df = train_df.replace(np.nan, '', regex=True)\n",
    "unlabelled_train_df = unlabelled_train_df.replace(np.nan, '', regex=True)\n",
    "test_df = test_df.replace(np.nan, '', regex=True)"
   ]
  },
  {
   "cell_type": "code",
   "execution_count": null,
   "metadata": {
    "execution": {
     "iopub.execute_input": "2022-02-18T13:29:10.914503Z",
     "iopub.status.busy": "2022-02-18T13:29:10.913926Z",
     "iopub.status.idle": "2022-02-18T13:29:10.919058Z",
     "shell.execute_reply": "2022-02-18T13:29:10.918252Z",
     "shell.execute_reply.started": "2022-02-18T13:29:10.914469Z"
    }
   },
   "outputs": [],
   "source": [
    "def remove_urls(line):\n",
    "    line = re.sub(r'http\\S+', '', line)\n",
    "    line = re.sub(r'www\\S+', '', line)\n",
    "    line = re.sub(r'\\S+.txt', '', line)\n",
    "    return line"
   ]
  },
  {
   "cell_type": "code",
   "execution_count": null,
   "metadata": {
    "execution": {
     "iopub.execute_input": "2022-02-18T13:29:13.161019Z",
     "iopub.status.busy": "2022-02-18T13:29:13.160766Z",
     "iopub.status.idle": "2022-02-18T13:29:13.166023Z",
     "shell.execute_reply": "2022-02-18T13:29:13.164787Z",
     "shell.execute_reply.started": "2022-02-18T13:29:13.16099Z"
    }
   },
   "outputs": [],
   "source": [
    "def combine_text(x):\n",
    "    all_text = ''\n",
    "    for col in cols:\n",
    "        all_text += x[col]\n",
    "        all_text += ' '\n",
    "    all_text = remove_urls(all_text)\n",
    "    return all_text"
   ]
  },
  {
   "cell_type": "code",
   "execution_count": null,
   "metadata": {
    "execution": {
     "iopub.execute_input": "2022-02-18T13:29:15.262885Z",
     "iopub.status.busy": "2022-02-18T13:29:15.262333Z",
     "iopub.status.idle": "2022-02-18T13:29:24.676028Z",
     "shell.execute_reply": "2022-02-18T13:29:24.675315Z",
     "shell.execute_reply.started": "2022-02-18T13:29:15.262848Z"
    }
   },
   "outputs": [],
   "source": [
    "train_df['features'] = train_df.apply(combine_text, axis=1)\n",
    "unlabelled_train_df['features'] = unlabelled_train_df.apply(combine_text, axis=1)\n",
    "test_df['features'] = test_df.apply(combine_text, axis=1)"
   ]
  },
  {
   "cell_type": "code",
   "execution_count": null,
   "metadata": {
    "execution": {
     "iopub.execute_input": "2022-02-18T13:29:24.677769Z",
     "iopub.status.busy": "2022-02-18T13:29:24.67754Z",
     "iopub.status.idle": "2022-02-18T13:29:24.684788Z",
     "shell.execute_reply": "2022-02-18T13:29:24.68407Z",
     "shell.execute_reply.started": "2022-02-18T13:29:24.677735Z"
    }
   },
   "outputs": [],
   "source": [
    "train_df['features'].values[4]"
   ]
  },
  {
   "cell_type": "code",
   "execution_count": null,
   "metadata": {
    "execution": {
     "iopub.execute_input": "2022-02-18T13:29:30.887974Z",
     "iopub.status.busy": "2022-02-18T13:29:30.887715Z",
     "iopub.status.idle": "2022-02-18T13:29:56.776266Z",
     "shell.execute_reply": "2022-02-18T13:29:56.775165Z",
     "shell.execute_reply.started": "2022-02-18T13:29:30.887944Z"
    }
   },
   "outputs": [],
   "source": [
    "# Preprocessing 'feature' column and storing the cleaned output in 'cleaned_feature'. \n",
    "# This will be done by the function given below.\n",
    "\n",
    "def preprocess(data_df):\n",
    "    data_df['cleaned_feature'] = ''\n",
    "    \n",
    "    # Initializing Stopwords and Lemmatization objects\n",
    "    stop_words = set(stopwords.words('english'))\n",
    "    wordnet_lemm = WordNetLemmatizer()\n",
    "    \n",
    "    # Pattern to detect characters which are not alphabets or numbers so they can removed\n",
    "    alpha_or_numeric = \"[^a-zA-Z0-9- ]\"\n",
    "\n",
    "    for index, row in tqdm(data_df.iterrows(), total=data_df.shape[0]):\n",
    "    \n",
    "        sample = row['features']\n",
    "        \n",
    "        # Replacing characters which are not alphabets or numbers with blank space and changing text to lowercase\n",
    "        # These two steps are for cleaning text data, you can add more on top of this to make your data cleaner.\n",
    "        pre_txt = re.sub(alpha_or_numeric, \" \", sample)\n",
    "        pre_txt = sample.lower()\n",
    "            \n",
    "        \n",
    "        # Removing stop words and lemmatizing different words in preprocessed text and making the final processed text\n",
    "        sample_words = [wordnet_lemm.lemmatize(w) for w in pre_txt.split() if w not in stop_words and len(w)>1]\n",
    "        pre_proc_ver = ' '.join(sample_words)\n",
    "        \n",
    "        data_df.loc[index, 'cleaned_feature'] = pre_proc_ver\n",
    "        \n",
    "    return data_df\n",
    "        \n",
    "        \n",
    "# Cleaned Training set\n",
    "cleaned_train_df = preprocess(train_df.copy())\n",
    "cleaned_unlabelled_train_df = preprocess(unlabelled_train_df.copy())\n",
    "cleaned_test_df = preprocess(test_df.copy())"
   ]
  },
  {
   "cell_type": "code",
   "execution_count": null,
   "metadata": {
    "execution": {
     "iopub.execute_input": "2022-02-18T13:40:56.60482Z",
     "iopub.status.busy": "2022-02-18T13:40:56.604556Z",
     "iopub.status.idle": "2022-02-18T13:41:00.062225Z",
     "shell.execute_reply": "2022-02-18T13:41:00.061411Z",
     "shell.execute_reply.started": "2022-02-18T13:40:56.60479Z"
    }
   },
   "outputs": [],
   "source": [
    "# Feature extraction with TFIDF Vectorizer. \n",
    "# The class needs stopwords as an input and uses punkt by default which we downloaded when importing libraries.\n",
    "\n",
    "vect = TfidfVectorizer(ngram_range=(1,3), max_features=20000)\n",
    "\n",
    "# Making vectors with TFIDF Vectorizer. \n",
    "# To make the vectors for your test set use .transform() function so that the number of features are the same.\n",
    "\n",
    "x_train = vect.fit_transform(cleaned_train_df['cleaned_feature']).toarray()\n",
    "y_train = cleaned_train_df['ctrl'].astype(int).values\n",
    "x_test = vect.transform(cleaned_test_df['cleaned_feature']).toarray()\n",
    "# x_unlabelled_train = vect.transform(cleaned_unlabelled_train_df['cleaned_feature']).toarray()"
   ]
  },
  {
   "cell_type": "code",
   "execution_count": null,
   "metadata": {
    "execution": {
     "iopub.execute_input": "2022-02-18T13:41:00.446415Z",
     "iopub.status.busy": "2022-02-18T13:41:00.446166Z",
     "iopub.status.idle": "2022-02-18T13:41:00.45196Z",
     "shell.execute_reply": "2022-02-18T13:41:00.451299Z",
     "shell.execute_reply.started": "2022-02-18T13:41:00.446383Z"
    }
   },
   "outputs": [],
   "source": [
    "x_train.shape, y_train.shape, x_unlabelled_train.shape, x_test.shape"
   ]
  },
  {
   "cell_type": "code",
   "execution_count": null,
   "metadata": {
    "execution": {
     "iopub.execute_input": "2022-02-18T13:41:04.740186Z",
     "iopub.status.busy": "2022-02-18T13:41:04.739627Z",
     "iopub.status.idle": "2022-02-18T13:41:04.745928Z",
     "shell.execute_reply": "2022-02-18T13:41:04.745189Z",
     "shell.execute_reply.started": "2022-02-18T13:41:04.740145Z"
    }
   },
   "outputs": [],
   "source": [
    "set(y_train.tolist())"
   ]
  },
  {
   "cell_type": "code",
   "execution_count": null,
   "metadata": {
    "execution": {
     "iopub.execute_input": "2022-02-18T13:41:07.343397Z",
     "iopub.status.busy": "2022-02-18T13:41:07.342437Z",
     "iopub.status.idle": "2022-02-18T13:41:10.675713Z",
     "shell.execute_reply": "2022-02-18T13:41:10.674988Z",
     "shell.execute_reply.started": "2022-02-18T13:41:07.343335Z"
    }
   },
   "outputs": [],
   "source": [
    "from sklearn.decomposition import PCA\n",
    "pca = PCA(n_components = 500)\n",
    "pca.fit(x_train)"
   ]
  },
  {
   "cell_type": "code",
   "execution_count": null,
   "metadata": {
    "execution": {
     "iopub.execute_input": "2022-02-18T13:41:11.712795Z",
     "iopub.status.busy": "2022-02-18T13:41:11.712536Z",
     "iopub.status.idle": "2022-02-18T13:41:14.931579Z",
     "shell.execute_reply": "2022-02-18T13:41:14.930794Z",
     "shell.execute_reply.started": "2022-02-18T13:41:11.712766Z"
    }
   },
   "outputs": [],
   "source": [
    "x_train_pca = pca.transform(x_train)\n",
    "x_test_pca = pca.transform(x_test)\n",
    "x_train_pca.shape, x_test_pca.shape"
   ]
  },
  {
   "cell_type": "code",
   "execution_count": null,
   "metadata": {
    "execution": {
     "iopub.execute_input": "2022-02-18T13:39:13.50843Z",
     "iopub.status.busy": "2022-02-18T13:39:13.508149Z",
     "iopub.status.idle": "2022-02-18T13:39:13.514742Z",
     "shell.execute_reply": "2022-02-18T13:39:13.513872Z",
     "shell.execute_reply.started": "2022-02-18T13:39:13.508398Z"
    }
   },
   "outputs": [],
   "source": [
    "# from sklearn.model_selection import train_test_split\n",
    "# x_train_pca, x_dev_pca, y_train, y_dev = train_test_split(x_train_pca, y_train, test_size=0.1, random_state=42)"
   ]
  },
  {
   "cell_type": "code",
   "execution_count": null,
   "metadata": {
    "execution": {
     "iopub.execute_input": "2022-02-17T11:36:00.881961Z",
     "iopub.status.busy": "2022-02-17T11:36:00.881679Z",
     "iopub.status.idle": "2022-02-17T11:36:00.886929Z",
     "shell.execute_reply": "2022-02-17T11:36:00.886322Z",
     "shell.execute_reply.started": "2022-02-17T11:36:00.881933Z"
    }
   },
   "outputs": [],
   "source": [
    "# from sklearn.ensemble import RandomForestClassifier\n",
    "# rndforest = RandomForestClassifier(n_estimators=250, max_depth=10)"
   ]
  },
  {
   "cell_type": "code",
   "execution_count": null,
   "metadata": {
    "execution": {
     "iopub.execute_input": "2022-02-17T11:36:07.760118Z",
     "iopub.status.busy": "2022-02-17T11:36:07.759675Z",
     "iopub.status.idle": "2022-02-17T11:36:10.181923Z",
     "shell.execute_reply": "2022-02-17T11:36:10.18106Z",
     "shell.execute_reply.started": "2022-02-17T11:36:07.760081Z"
    }
   },
   "outputs": [],
   "source": [
    "# rndforest.fit(x_train, y_train)\n",
    "# y_predictions = rndforest.predict(x_train)\n",
    "# print(classification_report(y_train, y_predictions))"
   ]
  },
  {
   "cell_type": "code",
   "execution_count": null,
   "metadata": {
    "execution": {
     "iopub.execute_input": "2022-02-18T13:41:19.347286Z",
     "iopub.status.busy": "2022-02-18T13:41:19.347031Z",
     "iopub.status.idle": "2022-02-18T13:41:20.865464Z",
     "shell.execute_reply": "2022-02-18T13:41:20.864683Z",
     "shell.execute_reply.started": "2022-02-18T13:41:19.347258Z"
    }
   },
   "outputs": [],
   "source": [
    "import xgboost\n",
    "from xgboost import XGBClassifier\n",
    "xgb = XGBClassifier(max_depth=3, n_estimators=100)\n",
    "xgb.fit(x_train_pca, y_train)\n",
    "y_predictions = xgb.predict(x_dev_pca)\n",
    "# y_unlabelled_train_predictions = xgb.predict(x_unlabelled_train)\n",
    "print(classification_report(y_dev, y_predictions))"
   ]
  },
  {
   "cell_type": "code",
   "execution_count": null,
   "metadata": {
    "execution": {
     "iopub.execute_input": "2022-02-17T17:19:45.760002Z",
     "iopub.status.busy": "2022-02-17T17:19:45.759669Z",
     "iopub.status.idle": "2022-02-17T17:19:48.528239Z",
     "shell.execute_reply": "2022-02-17T17:19:48.527603Z",
     "shell.execute_reply.started": "2022-02-17T17:19:45.75997Z"
    }
   },
   "outputs": [],
   "source": [
    "# y_unlabelled_train_predictions = xgb.predict(x_unlabelled_train)\n",
    "# cleaned_unlabelled_train_df['ctrl'] = y_unlabelled_train_predictions\n",
    "# cleaned_unlabelled_train_df['ctrl'] = cleaned_unlabelled_train_df['ctrl'].astype(np.float64)\n",
    "\n",
    "# cleaned_train_df.columns, cleaned_unlabelled_train_df.columns"
   ]
  },
  {
   "cell_type": "code",
   "execution_count": null,
   "metadata": {
    "execution": {
     "iopub.execute_input": "2022-02-18T13:43:28.22161Z",
     "iopub.status.busy": "2022-02-18T13:43:28.220778Z",
     "iopub.status.idle": "2022-02-18T13:43:28.29156Z",
     "shell.execute_reply": "2022-02-18T13:43:28.290886Z",
     "shell.execute_reply.started": "2022-02-18T13:43:28.221571Z"
    }
   },
   "outputs": [],
   "source": [
    "y_predictions_test = xgb.predict(x_test_pca)\n",
    "cleaned_test_df['ctrl'] = y_predictions_test\n",
    "cleaned_test_df = cleaned_test_df[['geo_accession', 'ctrl']]\n",
    "# make sure its a float!\n",
    "cleaned_test_df['ctrl'] = cleaned_test_df['ctrl'].astype(np.float64)\n",
    "cleaned_test_df.to_csv('submission_xgb_pca.csv', index=False)"
   ]
  },
  {
   "cell_type": "markdown",
   "metadata": {},
   "source": [
    "# Start from here"
   ]
  },
  {
   "cell_type": "code",
   "execution_count": null,
   "metadata": {
    "execution": {
     "iopub.execute_input": "2022-02-18T13:25:26.995392Z",
     "iopub.status.busy": "2022-02-18T13:25:26.99505Z",
     "iopub.status.idle": "2022-02-18T13:25:26.999761Z",
     "shell.execute_reply": "2022-02-18T13:25:26.999082Z",
     "shell.execute_reply.started": "2022-02-18T13:25:26.995325Z"
    }
   },
   "outputs": [],
   "source": [
    "# now combine the cleaned_train and cleaned_unlabelled_train\n",
    "import pickle\n",
    "# cleaned_train_df.to_pickle('cleaned_train.pkl', protocol=4)\n",
    "# cleaned_test_df.to_pickle('cleaned_test.pkl', protocol=4)\n",
    "# cleaned_unlabelled_train_df.to_pickle('cleaned_unlabelled_train.pkl', protocol=4)"
   ]
  },
  {
   "cell_type": "code",
   "execution_count": null,
   "metadata": {
    "execution": {
     "iopub.execute_input": "2022-02-18T13:25:28.063467Z",
     "iopub.status.busy": "2022-02-18T13:25:28.062935Z",
     "iopub.status.idle": "2022-02-18T13:25:28.595941Z",
     "shell.execute_reply": "2022-02-18T13:25:28.595192Z",
     "shell.execute_reply.started": "2022-02-18T13:25:28.06343Z"
    }
   },
   "outputs": [],
   "source": [
    "cleaned_train_df = pd.read_pickle('../input/cleaned-files/cleaned_train.pkl')\n",
    "cleaned_unlabelled_train_df = pd.read_pickle('../input/cleaned-files/cleaned_unlabelled_train.pkl')"
   ]
  },
  {
   "cell_type": "code",
   "execution_count": null,
   "metadata": {
    "execution": {
     "iopub.execute_input": "2022-02-18T13:25:29.80896Z",
     "iopub.status.busy": "2022-02-18T13:25:29.808583Z",
     "iopub.status.idle": "2022-02-18T13:25:29.815433Z",
     "shell.execute_reply": "2022-02-18T13:25:29.814658Z",
     "shell.execute_reply.started": "2022-02-18T13:25:29.808924Z"
    }
   },
   "outputs": [],
   "source": [
    "cleaned_train_df.columns"
   ]
  },
  {
   "cell_type": "code",
   "execution_count": null,
   "metadata": {
    "execution": {
     "iopub.execute_input": "2022-02-18T13:25:30.612318Z",
     "iopub.status.busy": "2022-02-18T13:25:30.612079Z",
     "iopub.status.idle": "2022-02-18T13:25:30.61874Z",
     "shell.execute_reply": "2022-02-18T13:25:30.617932Z",
     "shell.execute_reply.started": "2022-02-18T13:25:30.612289Z"
    }
   },
   "outputs": [],
   "source": [
    "cleaned_unlabelled_train_df.columns"
   ]
  },
  {
   "cell_type": "code",
   "execution_count": null,
   "metadata": {
    "execution": {
     "iopub.execute_input": "2022-02-18T13:25:31.74143Z",
     "iopub.status.busy": "2022-02-18T13:25:31.74116Z",
     "iopub.status.idle": "2022-02-18T13:25:31.746925Z",
     "shell.execute_reply": "2022-02-18T13:25:31.746028Z",
     "shell.execute_reply.started": "2022-02-18T13:25:31.741399Z"
    }
   },
   "outputs": [],
   "source": [
    "cols = ['geo_accession', 'gse_id', 'ctrl', 'cleaned_feature']\n",
    "cols"
   ]
  },
  {
   "cell_type": "code",
   "execution_count": null,
   "metadata": {
    "execution": {
     "iopub.execute_input": "2022-02-18T13:25:33.846723Z",
     "iopub.status.busy": "2022-02-18T13:25:33.846165Z",
     "iopub.status.idle": "2022-02-18T13:25:33.869905Z",
     "shell.execute_reply": "2022-02-18T13:25:33.869178Z",
     "shell.execute_reply.started": "2022-02-18T13:25:33.846682Z"
    }
   },
   "outputs": [],
   "source": [
    "cleaned_train_df = cleaned_train_df[cols]\n",
    "cleaned_unlabelled_train_df = cleaned_unlabelled_train_df[cols]\n",
    "assert (cleaned_train_df.columns.all() == cleaned_unlabelled_train_df.columns.all())"
   ]
  },
  {
   "cell_type": "code",
   "execution_count": null,
   "metadata": {
    "execution": {
     "iopub.execute_input": "2022-02-18T13:25:34.94573Z",
     "iopub.status.busy": "2022-02-18T13:25:34.944847Z",
     "iopub.status.idle": "2022-02-18T13:25:34.957043Z",
     "shell.execute_reply": "2022-02-18T13:25:34.956208Z",
     "shell.execute_reply.started": "2022-02-18T13:25:34.945677Z"
    }
   },
   "outputs": [],
   "source": [
    "final_cleaned_train_df = cleaned_train_df.append(cleaned_unlabelled_train_df, ignore_index=True)\n",
    "final_cleaned_train_df.shape"
   ]
  },
  {
   "cell_type": "code",
   "execution_count": null,
   "metadata": {
    "execution": {
     "iopub.execute_input": "2022-02-18T12:42:15.00448Z",
     "iopub.status.busy": "2022-02-18T12:42:15.004227Z",
     "iopub.status.idle": "2022-02-18T12:42:15.009814Z",
     "shell.execute_reply": "2022-02-18T12:42:15.00913Z",
     "shell.execute_reply.started": "2022-02-18T12:42:15.00445Z"
    }
   },
   "outputs": [],
   "source": [
    "final_cleaned_train_df.columns"
   ]
  },
  {
   "cell_type": "code",
   "execution_count": null,
   "metadata": {
    "execution": {
     "iopub.execute_input": "2022-02-18T12:42:22.811231Z",
     "iopub.status.busy": "2022-02-18T12:42:22.810944Z",
     "iopub.status.idle": "2022-02-18T12:42:22.814697Z",
     "shell.execute_reply": "2022-02-18T12:42:22.813964Z",
     "shell.execute_reply.started": "2022-02-18T12:42:22.811198Z"
    }
   },
   "outputs": [],
   "source": [
    "# Feature extraction with TFIDF Vectorizer. \n",
    "# The class needs stopwords as an input and uses punkt by default which we downloaded when importing libraries.\n",
    "\n",
    "vect = TfidfVectorizer(ngram_range=(1,3), max_features=20000)\n",
    "\n",
    "# Making vectors with TFIDF Vectorizer. \n",
    "# To make the vectors for your test set use .transform() function so that the number of features are the same.\n",
    "\n",
    "x_train = vect.fit_transform(final_cleaned_train_df['cleaned_feature']).toarray()\n",
    "y_train = final_cleaned_train_df['ctrl'].astype(int).values"
   ]
  },
  {
   "cell_type": "code",
   "execution_count": null,
   "metadata": {
    "execution": {
     "iopub.execute_input": "2022-02-17T18:57:18.204243Z",
     "iopub.status.busy": "2022-02-17T18:57:18.203875Z",
     "iopub.status.idle": "2022-02-17T18:57:18.209457Z",
     "shell.execute_reply": "2022-02-17T18:57:18.20869Z",
     "shell.execute_reply.started": "2022-02-17T18:57:18.204205Z"
    }
   },
   "outputs": [],
   "source": [
    "from sklearn.model_selection import KFold\n",
    "from sklearn.metrics import accuracy_score\n",
    "import xgboost\n",
    "from xgboost import XGBClassifier"
   ]
  },
  {
   "cell_type": "code",
   "execution_count": null,
   "metadata": {
    "execution": {
     "iopub.execute_input": "2022-02-17T18:57:49.492192Z",
     "iopub.status.busy": "2022-02-17T18:57:49.491443Z",
     "iopub.status.idle": "2022-02-17T18:57:49.499154Z",
     "shell.execute_reply": "2022-02-17T18:57:49.498209Z",
     "shell.execute_reply.started": "2022-02-17T18:57:49.492145Z"
    }
   },
   "outputs": [],
   "source": [
    "X = x_train\n",
    "y = y_train\n",
    "X.shape, y.shape"
   ]
  },
  {
   "cell_type": "code",
   "execution_count": null,
   "metadata": {
    "execution": {
     "iopub.execute_input": "2022-02-17T18:45:46.182283Z",
     "iopub.status.busy": "2022-02-17T18:45:46.181473Z",
     "iopub.status.idle": "2022-02-17T18:53:01.610939Z",
     "shell.execute_reply": "2022-02-17T18:53:01.609581Z",
     "shell.execute_reply.started": "2022-02-17T18:45:46.182211Z"
    }
   },
   "outputs": [],
   "source": [
    "kf = KFold(n_splits=10, random_state=10, shuffle=True)\n",
    "average_accuracy = 0.0\n",
    "count = 0\n",
    "for train_index, test_index in tqdm(kf.split(X)):\n",
    "    count += 1\n",
    "    x_train, x_test = X[train_index], X[test_index]\n",
    "    y_train, y_test = y[train_index], y[test_index]\n",
    "    xgb = XGBClassifier(max_depth=1, n_estimators=20)\n",
    "    xgb.fit(x_train, y_train)\n",
    "    y_predictions = xgb.predict(x_test)\n",
    "    average_accuracy += accuracy_score(y_test, y_predictions)\n",
    "\n",
    "average_accuracy = average_accuracy / count\n",
    "print(average_accuracy)"
   ]
  },
  {
   "cell_type": "code",
   "execution_count": null,
   "metadata": {
    "execution": {
     "iopub.execute_input": "2022-02-17T18:55:09.780239Z",
     "iopub.status.busy": "2022-02-17T18:55:09.779891Z",
     "iopub.status.idle": "2022-02-17T18:55:09.787608Z",
     "shell.execute_reply": "2022-02-17T18:55:09.78675Z",
     "shell.execute_reply.started": "2022-02-17T18:55:09.7802Z"
    }
   },
   "outputs": [],
   "source": [
    "X.shape, y.shape"
   ]
  },
  {
   "cell_type": "code",
   "execution_count": null,
   "metadata": {
    "execution": {
     "iopub.execute_input": "2022-02-17T18:16:18.206354Z",
     "iopub.status.busy": "2022-02-17T18:16:18.206027Z",
     "iopub.status.idle": "2022-02-17T18:17:50.922794Z",
     "shell.execute_reply": "2022-02-17T18:17:50.921554Z",
     "shell.execute_reply.started": "2022-02-17T18:16:18.206321Z"
    }
   },
   "outputs": [],
   "source": [
    "import xgboost\n",
    "from xgboost import XGBClassifier\n",
    "xgb = XGBClassifier(max_depth=3, n_estimators=40)\n",
    "xgb.fit(X, y)\n",
    "y_predictions = xgb.predict(X)\n",
    "print(classification_report(y, y_predictions))"
   ]
  },
  {
   "cell_type": "code",
   "execution_count": null,
   "metadata": {
    "execution": {
     "iopub.execute_input": "2022-02-18T13:25:42.741218Z",
     "iopub.status.busy": "2022-02-18T13:25:42.740962Z",
     "iopub.status.idle": "2022-02-18T13:25:42.943945Z",
     "shell.execute_reply": "2022-02-18T13:25:42.94323Z",
     "shell.execute_reply.started": "2022-02-18T13:25:42.74119Z"
    }
   },
   "outputs": [],
   "source": [
    "# Submit to Kaggle\n",
    "cleaned_test_df = pd.read_pickle('../input/cleaned-files/cleaned_test.pkl')\n",
    "\n",
    "# x_test = vect.transform(cleaned_test_df['cleaned_feature']).toarray()\n",
    "# test_predictions = xgb.predict(x_test)\n",
    "# cleaned_test_df['ctrl'] = test_predictions\n",
    "# cleaned_test_df = cleaned_test_df[['geo_accession', 'ctrl']]\n",
    "# # make sure its a float!\n",
    "# cleaned_test_df['ctrl'] = cleaned_test_df['ctrl'].astype(np.float64)\n",
    "# cleaned_test_df.to_csv('submission_xgb_bigtrain.csv', index=False)"
   ]
  },
  {
   "cell_type": "code",
   "execution_count": null,
   "metadata": {
    "execution": {
     "iopub.execute_input": "2022-02-18T12:42:35.519423Z",
     "iopub.status.busy": "2022-02-18T12:42:35.518763Z",
     "iopub.status.idle": "2022-02-18T12:42:35.522638Z",
     "shell.execute_reply": "2022-02-18T12:42:35.521836Z",
     "shell.execute_reply.started": "2022-02-18T12:42:35.519386Z"
    }
   },
   "outputs": [],
   "source": [
    "#####################################################################\n",
    "################tensorflow models"
   ]
  },
  {
   "cell_type": "code",
   "execution_count": null,
   "metadata": {
    "execution": {
     "iopub.execute_input": "2022-02-18T13:23:52.815348Z",
     "iopub.status.busy": "2022-02-18T13:23:52.815046Z",
     "iopub.status.idle": "2022-02-18T13:23:58.972979Z",
     "shell.execute_reply": "2022-02-18T13:23:58.972236Z",
     "shell.execute_reply.started": "2022-02-18T13:23:52.815268Z"
    }
   },
   "outputs": [],
   "source": [
    "### Please use GPU for this experiment\n",
    "import tensorflow as tf\n",
    "import tensorflow.keras.layers as tfl\n",
    "\n",
    "# from tensorflow.keras.models import Model\n",
    "# from tensorflow.keras.layers import Dense, Input, Dropout, LSTM\n",
    "# from tensorflow.keras.layers import Embedding\n",
    "# from tensorflow.keras.optimizers import Adam\n",
    "\n",
    "import numpy as np\n",
    "import pandas as pd\n",
    "import re\n",
    "import nltk"
   ]
  },
  {
   "cell_type": "code",
   "execution_count": null,
   "metadata": {
    "execution": {
     "iopub.execute_input": "2022-02-18T13:24:01.735925Z",
     "iopub.status.busy": "2022-02-18T13:24:01.734908Z",
     "iopub.status.idle": "2022-02-18T13:25:04.643622Z",
     "shell.execute_reply": "2022-02-18T13:25:04.642949Z",
     "shell.execute_reply.started": "2022-02-18T13:24:01.73587Z"
    }
   },
   "outputs": [],
   "source": [
    "from gensim.models import KeyedVectors\n",
    "word_2_vec_model = KeyedVectors.load_word2vec_format('../input/word2vecgoogle/GoogleNews-vectors-negative300.bin', binary=True)\n",
    "word_vec_example = word_2_vec_model['easy']\n",
    "word_vec_example.shape"
   ]
  },
  {
   "cell_type": "code",
   "execution_count": null,
   "metadata": {
    "execution": {
     "iopub.execute_input": "2022-02-18T13:25:07.673879Z",
     "iopub.status.busy": "2022-02-18T13:25:07.673584Z",
     "iopub.status.idle": "2022-02-18T13:25:08.141385Z",
     "shell.execute_reply": "2022-02-18T13:25:08.140532Z",
     "shell.execute_reply.started": "2022-02-18T13:25:07.673849Z"
    }
   },
   "outputs": [],
   "source": [
    "# assert (word_2_vec_model.get_vector(\"easy\").all() == word_2_vec_model[\"easy\"].all())\n",
    "list(word_2_vec_model.key_to_index.items())[:5]"
   ]
  }
 ],
 "metadata": {
  "kernelspec": {
   "display_name": "Python 3",
   "language": "python",
   "name": "python3"
  },
  "language_info": {
   "codemirror_mode": {
    "name": "ipython",
    "version": 3
   },
   "file_extension": ".py",
   "mimetype": "text/x-python",
   "name": "python",
   "nbconvert_exporter": "python",
   "pygments_lexer": "ipython3",
   "version": "3.6.10"
  }
 },
 "nbformat": 4,
 "nbformat_minor": 4
}
